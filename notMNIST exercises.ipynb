{
 "cells": [
  {
   "cell_type": "code",
   "execution_count": 122,
   "metadata": {},
   "outputs": [
    {
     "name": "stdout",
     "output_type": "stream",
     "text": [
      "Training set (200000, 28, 28) (200000,)\n",
      "Validation set (10000, 28, 28) (10000,)\n",
      "Test set (10000, 28, 28) (10000,)\n"
     ]
    }
   ],
   "source": [
    "# These are all the modules we'll be using later. Make sure you can import them\n",
    "# before proceeding further.\n",
    "import numpy as np\n",
    "from six.moves import cPickle as pickle\n",
    "import keras\n",
    "from keras.models import Sequential\n",
    "from keras.layers import Dense, Dropout, Reshape, Conv2D\n",
    "from keras import optimizers\n",
    "from keras import metrics\n",
    "from keras import regularizers\n",
    "\n",
    "PATH = 'notMNIST.pickle'\n",
    "NUM_CLASSES = 10\n",
    "NUM_PIXEL = 28*28\n",
    "\n",
    "with open(PATH, 'rb') as file:\n",
    "    save = pickle.load(file)\n",
    "    x_train = save['train_dataset']\n",
    "    x_valid = save['valid_dataset']\n",
    "    x_test = save['test_dataset']\n",
    "    train_labels = save['train_labels']\n",
    "    valid_labels = save['valid_labels']\n",
    "    test_labels = save['test_labels']\n",
    "    y_train = keras.utils.to_categorical(train_labels, NUM_CLASSES)\n",
    "    y_valid = keras.utils.to_categorical(valid_labels, NUM_CLASSES)\n",
    "    y_test = keras.utils.to_categorical(test_labels, NUM_CLASSES)\n",
    "    del save  # hint to help gc free up memory\n",
    "    print('Training set', train_dataset.shape, train_labels.shape)\n",
    "    print('Validation set', valid_dataset.shape, valid_labels.shape)\n",
    "    print('Test set', test_dataset.shape, test_labels.shape)\n",
    "    \n",
    "\n",
    "def train_and_evaluate(m, batch_size=100,\n",
    "                       epochs=1,\n",
    "                       x_train=x_train,\n",
    "                       y_train=y_train,\n",
    "                       x_valid=x_valid,\n",
    "                       y_valid=y_valid,\n",
    "                       y_test =y_test,\n",
    "                       verbose_fit=1\n",
    "                      ):\n",
    "    print(\"=========\", m.name, \"========\")\n",
    "    m.summary()\n",
    "    history = m.fit(x_train, y_train,\n",
    "                        batch_size=batch_size,\n",
    "                        epochs=epochs,\n",
    "                        verbose=verbose_fit,\n",
    "                        validation_data=(x_valid, y_valid))\n",
    "    \n",
    "    score_train = m.evaluate(x_train, y_train, verbose=0)\n",
    "    score_valid = m.evaluate(x_valid, y_valid, verbose=0)\n",
    "    score_test = m.evaluate(x_test, y_test, verbose=0)\n",
    "    \n",
    "    print('Train loss:', score_train[0])\n",
    "    print('Validation loss:', score_valid[0])\n",
    "    print('Test loss:', score_test[0])\n",
    "    print('Train accuracy:', score_train[1])\n",
    "    print('Validation accuracy:', score_valid[1])\n",
    "    print('Test accuracy:', score_test[1])"
   ]
  },
  {
   "cell_type": "code",
   "execution_count": 135,
   "metadata": {},
   "outputs": [
    {
     "name": "stdout",
     "output_type": "stream",
     "text": [
      "========= logistic regression ========\n",
      "_________________________________________________________________\n",
      "Layer (type)                 Output Shape              Param #   \n",
      "=================================================================\n",
      "reshape (Reshape)            (None, 784)               0         \n",
      "_________________________________________________________________\n",
      "regression (Dense)           (None, 10)                7850      \n",
      "=================================================================\n",
      "Total params: 7,850\n",
      "Trainable params: 7,850\n",
      "Non-trainable params: 0\n",
      "_________________________________________________________________\n",
      "Train on 200000 samples, validate on 10000 samples\n",
      "Epoch 1/1\n",
      "200000/200000 [==============================] - 6s 30us/step - loss: 0.6805 - categorical_accuracy: 0.8198 - val_loss: 0.6518 - val_categorical_accuracy: 0.8263\n",
      "Train loss: 0.640728264794\n",
      "Validation loss: 0.651821215343\n",
      "Test loss: 0.412278352714\n",
      "Train accuracy: 0.83029\n",
      "Validation accuracy: 0.8263\n",
      "Test accuracy: 0.8924\n"
     ]
    }
   ],
   "source": [
    "def create_logistic():\n",
    "    m = Sequential(name=\"logistic regression\")\n",
    "    m.add(Reshape((NUM_PIXEL,), input_shape=(28,28), name=\"reshape\"))\n",
    "    m.add(Dense(NUM_CLASSES, activation='softmax', name=\"regression\"))\n",
    "    \n",
    "    m.compile(loss='categorical_crossentropy',\n",
    "                  optimizer=optimizers.SGD(lr=0.1),\n",
    "                  metrics=[metrics.categorical_accuracy])\n",
    "    return m\n",
    "train_and_evaluate(create_logistic())"
   ]
  },
  {
   "cell_type": "code",
   "execution_count": 130,
   "metadata": {},
   "outputs": [
    {
     "name": "stdout",
     "output_type": "stream",
     "text": [
      "========= mlp 1 hidden ========\n",
      "_________________________________________________________________\n",
      "Layer (type)                 Output Shape              Param #   \n",
      "=================================================================\n",
      "reshape (Reshape)            (None, 784)               0         \n",
      "_________________________________________________________________\n",
      "dense_115 (Dense)            (None, 100)               78500     \n",
      "_________________________________________________________________\n",
      "dense_116 (Dense)            (None, 10)                1010      \n",
      "=================================================================\n",
      "Total params: 79,510\n",
      "Trainable params: 79,510\n",
      "Non-trainable params: 0\n",
      "_________________________________________________________________\n",
      "Train on 200000 samples, validate on 10000 samples\n",
      "Epoch 1/1\n",
      "200000/200000 [==============================] - 7s 36us/step - loss: 0.5512 - categorical_accuracy: 0.8409 - val_loss: 0.4774 - val_categorical_accuracy: 0.8557\n",
      "Train loss: 0.467214186074\n",
      "Validation loss: 0.477356828833\n",
      "Test loss: 0.271998154724\n",
      "Train accuracy: 0.86276\n",
      "Validation accuracy: 0.8557\n",
      "Test accuracy: 0.9207\n"
     ]
    }
   ],
   "source": [
    "def create_mlp1():\n",
    "    m = Sequential(name=\"mlp 1 hidden\")\n",
    "    m.add(Reshape((NUM_PIXEL,), input_shape=(28,28), name=\"reshape\"))\n",
    "    m.add(Dense(100, activation='relu'))\n",
    "    m.add(Dense(NUM_CLASSES, activation='softmax'))\n",
    "    m.compile(loss='categorical_crossentropy',\n",
    "                  optimizer=optimizers.SGD(lr=0.1),\n",
    "                  metrics=[metrics.categorical_accuracy])\n",
    "    return m\n",
    "\n",
    "train_and_evaluate(create_mlp1())"
   ]
  },
  {
   "cell_type": "code",
   "execution_count": 131,
   "metadata": {},
   "outputs": [
    {
     "name": "stdout",
     "output_type": "stream",
     "text": [
      "========= logistic regression l2 regularized ========\n",
      "_________________________________________________________________\n",
      "Layer (type)                 Output Shape              Param #   \n",
      "=================================================================\n",
      "reshape (Reshape)            (None, 784)               0         \n",
      "_________________________________________________________________\n",
      "regression (Dense)           (None, 10)                7850      \n",
      "=================================================================\n",
      "Total params: 7,850\n",
      "Trainable params: 7,850\n",
      "Non-trainable params: 0\n",
      "_________________________________________________________________\n",
      "Train on 200000 samples, validate on 10000 samples\n",
      "Epoch 1/1\n",
      "200000/200000 [==============================] - 6s 29us/step - loss: 0.7073 - categorical_accuracy: 0.8201 - val_loss: 0.6818 - val_categorical_accuracy: 0.8280\n",
      "Train loss: 0.670712413702\n",
      "Validation loss: 0.681768521404\n",
      "Test loss: 0.442187683439\n",
      "Train accuracy: 0.830205\n",
      "Validation accuracy: 0.828\n",
      "Test accuracy: 0.8932\n"
     ]
    }
   ],
   "source": [
    "def create_logistic_regularized():\n",
    "    m = Sequential(name=\"logistic regression l2 regularized\")\n",
    "    m.add(Reshape((NUM_PIXEL,), input_shape=(28,28), name=\"reshape\"))\n",
    "    m.add(Dense(NUM_CLASSES, activation='softmax', \n",
    "                name=\"regression\", \n",
    "                kernel_regularizer=regularizers.l2(0.001)))\n",
    "    \n",
    "    m.compile(loss='categorical_crossentropy',\n",
    "                  optimizer=optimizers.SGD(lr=0.1),\n",
    "                  metrics=[metrics.categorical_accuracy])\n",
    "    return m\n",
    "\n",
    "train_and_evaluate(create_logistic_regularized())"
   ]
  },
  {
   "cell_type": "code",
   "execution_count": 132,
   "metadata": {},
   "outputs": [
    {
     "name": "stdout",
     "output_type": "stream",
     "text": [
      "========= mlp 1 hidden ========\n",
      "_________________________________________________________________\n",
      "Layer (type)                 Output Shape              Param #   \n",
      "=================================================================\n",
      "reshape (Reshape)            (None, 784)               0         \n",
      "_________________________________________________________________\n",
      "dense_117 (Dense)            (None, 100)               78500     \n",
      "_________________________________________________________________\n",
      "dense_118 (Dense)            (None, 10)                1010      \n",
      "=================================================================\n",
      "Total params: 79,510\n",
      "Trainable params: 79,510\n",
      "Non-trainable params: 0\n",
      "_________________________________________________________________\n",
      "Train loss: 0.143104543975\n",
      "Validation loss: 0.731374007225\n",
      "Test loss: 0.467138659501\n",
      "Train accuracy: 0.981981982042\n",
      "Validation accuracy: 0.7967\n",
      "Test accuracy: 0.8631\n",
      "========= mlp1 dropout ========\n",
      "_________________________________________________________________\n",
      "Layer (type)                 Output Shape              Param #   \n",
      "=================================================================\n",
      "reshape (Reshape)            (None, 784)               0         \n",
      "_________________________________________________________________\n",
      "dropout_29 (Dropout)         (None, 784)               0         \n",
      "_________________________________________________________________\n",
      "dense_119 (Dense)            (None, 100)               78500     \n",
      "_________________________________________________________________\n",
      "dropout_30 (Dropout)         (None, 100)               0         \n",
      "_________________________________________________________________\n",
      "dense_120 (Dense)            (None, 10)                1010      \n",
      "=================================================================\n",
      "Total params: 79,510\n",
      "Trainable params: 79,510\n",
      "Non-trainable params: 0\n",
      "_________________________________________________________________\n",
      "Train loss: 0.344018183134\n",
      "Validation loss: 0.701284732723\n",
      "Test loss: 0.458397512341\n",
      "Train accuracy: 0.914914914975\n",
      "Validation accuracy: 0.8025\n",
      "Test accuracy: 0.8686\n"
     ]
    }
   ],
   "source": [
    "# overfit and dropout\n",
    "def create_mlp1_dropout(dropout_rate=0.2):\n",
    "    m = Sequential(name=\"mlp1 dropout\")\n",
    "    m.add(Reshape((NUM_PIXEL,), input_shape=(28,28), name=\"reshape\"))\n",
    "    m.add(Dropout(dropout_rate))\n",
    "    m.add(Dense(100, activation='relu', ))\n",
    "    m.add(Dropout(dropout_rate))\n",
    "    m.add(Dense(NUM_CLASSES, activation='softmax'))\n",
    "    m.compile(loss='categorical_crossentropy',\n",
    "                  optimizer=optimizers.SGD(lr=0.1),\n",
    "                  metrics=[metrics.categorical_accuracy])\n",
    "    return m\n",
    "    \n",
    "x_train_small = x_train[1:1000, :, :]\n",
    "y_train_small = y_train[1:1000, :]\n",
    "model = create_mlp1()\n",
    "train_and_evaluate(model, \n",
    "                   x_train=x_train_small,\n",
    "                   y_train=y_train_small,\n",
    "                   verbose_fit=False,\n",
    "                  epochs=30)\n",
    "\n",
    "model = create_mlp1_dropout(0.5)\n",
    "train_and_evaluate(model, \n",
    "                   x_train=x_train_small,\n",
    "                   y_train=y_train_small,\n",
    "                   verbose_fit=False,\n",
    "                  epochs=30)"
   ]
  },
  {
   "cell_type": "code",
   "execution_count": 133,
   "metadata": {},
   "outputs": [
    {
     "name": "stdout",
     "output_type": "stream",
     "text": [
      "========= cnn ========\n",
      "_________________________________________________________________\n",
      "Layer (type)                 Output Shape              Param #   \n",
      "=================================================================\n",
      "reshape_5 (Reshape)          (None, 28, 28, 1)         0         \n",
      "_________________________________________________________________\n",
      "conv2d_4 (Conv2D)            (None, 24, 24, 8)         208       \n",
      "_________________________________________________________________\n",
      "max_pooling2d_3 (MaxPooling2 (None, 6, 6, 8)           0         \n",
      "_________________________________________________________________\n",
      "reshape_6 (Reshape)          (None, 288)               0         \n",
      "_________________________________________________________________\n",
      "dense_121 (Dense)            (None, 10)                2890      \n",
      "=================================================================\n",
      "Total params: 3,098\n",
      "Trainable params: 3,098\n",
      "Non-trainable params: 0\n",
      "_________________________________________________________________\n",
      "Train on 200000 samples, validate on 10000 samples\n",
      "Epoch 1/1\n",
      "200000/200000 [==============================] - 30s 150us/step - loss: 0.5831 - categorical_accuracy: 0.8410 - val_loss: 0.4901 - val_categorical_accuracy: 0.8654\n",
      "Train loss: 0.483109996724\n",
      "Validation loss: 0.490131794047\n",
      "Test loss: 0.275766298437\n",
      "Train accuracy: 0.868585\n",
      "Validation accuracy: 0.8654\n",
      "Test accuracy: 0.9246\n"
     ]
    }
   ],
   "source": [
    "from keras.layers import MaxPooling2D\n",
    "\n",
    "def create_conv_net():\n",
    "    m = Sequential(name=\"cnn\")\n",
    "    m.add(Reshape((28,28,1), input_shape=(28,28)))\n",
    "    m.add(Conv2D(8, kernel_size=(5,5)))\n",
    "    m.add(MaxPooling2D(pool_size=(4,4)))\n",
    "    m.add(Reshape((6*6*8,)))\n",
    "    m.add(Dense(NUM_CLASSES, activation='softmax'))\n",
    "    m.compile(loss='categorical_crossentropy',\n",
    "                  optimizer=optimizers.SGD(lr=0.1),\n",
    "                  metrics=[metrics.categorical_accuracy])\n",
    "    return m\n",
    "\n",
    "m = create_conv_net()\n",
    "train_and_evaluate(m)"
   ]
  },
  {
   "cell_type": "code",
   "execution_count": 126,
   "metadata": {},
   "outputs": [
    {
     "data": {
      "text/plain": [
       "'channels_last'"
      ]
     },
     "execution_count": 126,
     "metadata": {},
     "output_type": "execute_result"
    }
   ],
   "source": [
    "from keras import backend as K\n",
    "K.image_data_format()"
   ]
  },
  {
   "cell_type": "code",
   "execution_count": null,
   "metadata": {
    "collapsed": true
   },
   "outputs": [],
   "source": []
  }
 ],
 "metadata": {
  "kernelspec": {
   "display_name": "Python 3",
   "language": "python",
   "name": "python3"
  },
  "language_info": {
   "codemirror_mode": {
    "name": "ipython",
    "version": 3
   },
   "file_extension": ".py",
   "mimetype": "text/x-python",
   "name": "python",
   "nbconvert_exporter": "python",
   "pygments_lexer": "ipython3",
   "version": "3.6.2"
  }
 },
 "nbformat": 4,
 "nbformat_minor": 2
}
